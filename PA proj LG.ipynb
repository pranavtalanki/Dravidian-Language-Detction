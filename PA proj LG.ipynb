{
 "cells": [
  {
   "cell_type": "code",
   "execution_count": 1,
   "id": "18ee1f80",
   "metadata": {},
   "outputs": [],
   "source": [
    "import pandas as pd\n",
    "import seaborn as sns\n",
    "import numpy as np\n",
    "from sklearn.metrics import accuracy_score, confusion_matrix, classification_report\n",
    "from sklearn.feature_extraction.text import TfidfVectorizer\n",
    "from sklearn import pipeline\n",
    "from sklearn.linear_model import LogisticRegression\n",
    "from sklearn.model_selection import train_test_split\n",
    "from matplotlib import pyplot as plt"
   ]
  },
  {
   "cell_type": "code",
   "execution_count": 2,
   "id": "b42199aa",
   "metadata": {},
   "outputs": [
    {
     "data": {
      "text/html": [
       "<div>\n",
       "<style scoped>\n",
       "    .dataframe tbody tr th:only-of-type {\n",
       "        vertical-align: middle;\n",
       "    }\n",
       "\n",
       "    .dataframe tbody tr th {\n",
       "        vertical-align: top;\n",
       "    }\n",
       "\n",
       "    .dataframe thead th {\n",
       "        text-align: right;\n",
       "    }\n",
       "</style>\n",
       "<table border=\"1\" class=\"dataframe\">\n",
       "  <thead>\n",
       "    <tr style=\"text-align: right;\">\n",
       "      <th></th>\n",
       "      <th>Unnamed: 0</th>\n",
       "      <th>Text</th>\n",
       "      <th>Language</th>\n",
       "    </tr>\n",
       "  </thead>\n",
       "  <tbody>\n",
       "    <tr>\n",
       "      <th>1492</th>\n",
       "      <td>1133</td>\n",
       "      <td>ಪ್ರಾರಂಭಿಸಲು ಇದು ಅತ್ಯುತ್ತಮ ವೀಡಿಯೊ ಆದ್ದರಿಂದ ಆಶಾದ...</td>\n",
       "      <td>Kannada</td>\n",
       "    </tr>\n",
       "    <tr>\n",
       "      <th>62</th>\n",
       "      <td>391</td>\n",
       "      <td>എനിക്ക് സമാനമായത് വാങ്ങാൻ താൽപ്പര്യമുണ്ടെന്ന് ...</td>\n",
       "      <td>Malayalam</td>\n",
       "    </tr>\n",
       "    <tr>\n",
       "      <th>769</th>\n",
       "      <td>968</td>\n",
       "      <td>இல்லை, இல்லை.</td>\n",
       "      <td>Tamil</td>\n",
       "    </tr>\n",
       "    <tr>\n",
       "      <th>1206</th>\n",
       "      <td>1703</td>\n",
       "      <td>దీన్ని దిల్లీ ముఖ్యమంత్రి అరవింద్‌ కేజ్రీవాల్‌...</td>\n",
       "      <td>Telugu</td>\n",
       "    </tr>\n",
       "    <tr>\n",
       "      <th>1386</th>\n",
       "      <td>836</td>\n",
       "      <td>ஓ, இது கிட்டத்தட்ட பைத்தியம் போன்றது.</td>\n",
       "      <td>Tamil</td>\n",
       "    </tr>\n",
       "  </tbody>\n",
       "</table>\n",
       "</div>"
      ],
      "text/plain": [
       "      Unnamed: 0                                               Text   Language\n",
       "1492        1133  ಪ್ರಾರಂಭಿಸಲು ಇದು ಅತ್ಯುತ್ತಮ ವೀಡಿಯೊ ಆದ್ದರಿಂದ ಆಶಾದ...    Kannada\n",
       "62           391  എനിക്ക് സമാനമായത് വാങ്ങാൻ താൽപ്പര്യമുണ്ടെന്ന് ...  Malayalam\n",
       "769          968                                      இல்லை, இல்லை.      Tamil\n",
       "1206        1703  దీన్ని దిల్లీ ముఖ్యమంత్రి అరవింద్‌ కేజ్రీవాల్‌...     Telugu\n",
       "1386         836              ஓ, இது கிட்டத்தட்ட பைத்தியம் போன்றது.      Tamil"
      ]
     },
     "execution_count": 2,
     "metadata": {},
     "output_type": "execute_result"
    }
   ],
   "source": [
    "data = pd.read_csv('sh_data.csv')\n",
    "data.sample(5).head(5)"
   ]
  },
  {
   "cell_type": "code",
   "execution_count": 3,
   "id": "24aa8883",
   "metadata": {},
   "outputs": [],
   "source": [
    "data = data.drop(['Unnamed: 0'], axis = 1)"
   ]
  },
  {
   "cell_type": "code",
   "execution_count": 4,
   "id": "24004c89",
   "metadata": {},
   "outputs": [
    {
     "data": {
      "text/plain": [
       "420          ನೀವು ಅದನ್ನು ಪುನರಾವರ್ತಿಸಲು ಮನಸ್ಸು ಮಾಡುತ್ತೀರಾ?\n",
       "1430    ഇത് ചെയ്യാൻ എന്നെ സഹായിക്കാമോ എന്ന് ഞാൻ ചിന്തി...\n",
       "933     കാരണം നമ്മുടെ പത്രങ്ങൾ ഒക്കെ ഇപ്പോഴും യൂണികോഡ്...\n",
       "495     അടുത്ത വാചകം പരാതിപ്പെടാൻ കഴിയില്ല ആരെങ്കിലും ...\n",
       "1162                                            இப்போதே.\n",
       "Name: Text, dtype: object"
      ]
     },
     "execution_count": 4,
     "metadata": {},
     "output_type": "execute_result"
    }
   ],
   "source": [
    "X = data['Text']\n",
    "X.sample(5)"
   ]
  },
  {
   "cell_type": "code",
   "execution_count": 5,
   "id": "9c0bc693",
   "metadata": {},
   "outputs": [
    {
     "data": {
      "text/plain": [
       "1203      Kannada\n",
       "820       Kannada\n",
       "350        Telugu\n",
       "1976    Malayalam\n",
       "1214    Malayalam\n",
       "Name: Language, dtype: object"
      ]
     },
     "execution_count": 5,
     "metadata": {},
     "output_type": "execute_result"
    }
   ],
   "source": [
    "y = data['Language']\n",
    "y.sample(5)"
   ]
  },
  {
   "cell_type": "code",
   "execution_count": 6,
   "id": "a17f8aca",
   "metadata": {},
   "outputs": [],
   "source": [
    "x_train,x_test,y_train,y_test = train_test_split(X,y,random_state = 42)"
   ]
  },
  {
   "cell_type": "code",
   "execution_count": 7,
   "id": "9248c3f7",
   "metadata": {},
   "outputs": [],
   "source": [
    "vec = TfidfVectorizer(ngram_range=(1,3),analyzer='char') \n",
    "        #TfidfVectorizer"
   ]
  },
  {
   "cell_type": "code",
   "execution_count": 8,
   "id": "8b0e82c5",
   "metadata": {},
   "outputs": [],
   "source": [
    "model = pipeline.Pipeline([\n",
    "    ('vectorizer',vec),\n",
    "    ('clf', LogisticRegression())\n",
    "])"
   ]
  },
  {
   "cell_type": "code",
   "execution_count": 9,
   "id": "d20615f3",
   "metadata": {},
   "outputs": [
    {
     "data": {
      "text/plain": [
       "Pipeline(steps=[('vectorizer',\n",
       "                 TfidfVectorizer(analyzer='char', ngram_range=(1, 3))),\n",
       "                ('clf', LogisticRegression())])"
      ]
     },
     "execution_count": 9,
     "metadata": {},
     "output_type": "execute_result"
    }
   ],
   "source": [
    "model.fit(x_train,y_train)"
   ]
  },
  {
   "cell_type": "code",
   "execution_count": 10,
   "id": "3367cccf",
   "metadata": {},
   "outputs": [
    {
     "data": {
      "text/plain": [
       "1.0"
      ]
     },
     "execution_count": 10,
     "metadata": {},
     "output_type": "execute_result"
    }
   ],
   "source": [
    "y_pred = model.predict(x_test)\n",
    "accuracy = accuracy_score(y_test,y_pred)\n",
    "cm = confusion_matrix(y_test,y_pred)\n",
    "accuracy"
   ]
  },
  {
   "cell_type": "code",
   "execution_count": 11,
   "id": "ffca82e1",
   "metadata": {},
   "outputs": [
    {
     "data": {
      "image/png": "[encoded data removed]",
      "text/plain": [
       "<Figure size 1440x1440 with 2 Axes>"
      ]
     },
     "metadata": {
      "needs_background": "light"
     },
     "output_type": "display_data"
    }
   ],
   "source": [
    "plt.figure(figsize=(20,20))\n",
    "sns.heatmap(cm,annot=True)\n",
    "plt.show()"
   ]
  },
  {
   "cell_type": "code",
   "execution_count": 12,
   "id": "320c28ee",
   "metadata": {},
   "outputs": [
    {
     "name": "stdout",
     "output_type": "stream",
     "text": [
      "              precision    recall  f1-score   support\n",
      "\n",
      "     Kannada       1.00      1.00      1.00       100\n",
      "   Malayalam       1.00      1.00      1.00       137\n",
      "       Tamil       1.00      1.00      1.00       117\n",
      "      Telugu       1.00      1.00      1.00       154\n",
      "\n",
      "    accuracy                           1.00       508\n",
      "   macro avg       1.00      1.00      1.00       508\n",
      "weighted avg       1.00      1.00      1.00       508\n",
      "\n"
     ]
    }
   ],
   "source": [
    "print(classification_report(y_test,y_pred))"
   ]
  },
  {
   "cell_type": "code",
   "execution_count": 13,
   "id": "084a8ab3",
   "metadata": {},
   "outputs": [],
   "source": [
    "def pred(t):\n",
    "    l = model.predict([t])\n",
    "    print('Language is:',l)"
   ]
  },
  {
   "cell_type": "code",
   "execution_count": 18,
   "id": "2c73a4f2",
   "metadata": {},
   "outputs": [
    {
     "name": "stdout",
     "output_type": "stream",
     "text": [
      "Language is: ['Telugu']\n"
     ]
    }
   ],
   "source": [
    "pred(\"నేను అను సర్వనామము\")"
   ]
  },
  {
   "cell_type": "code",
   "execution_count": 15,
   "id": "66f27623",
   "metadata": {},
   "outputs": [
    {
     "name": "stdout",
     "output_type": "stream",
     "text": [
      "Language is: ['Kannada']\n"
     ]
    }
   ],
   "source": [
    "pred(\"ಬೆಳಗ್ಗೆ\")"
   ]
  },
  {
   "cell_type": "code",
   "execution_count": 16,
   "id": "27947b26",
   "metadata": {},
   "outputs": [
    {
     "name": "stdout",
     "output_type": "stream",
     "text": [
      "Language is: ['Tamil']\n"
     ]
    }
   ],
   "source": [
    "pred(\"உங்களை சந்தித்ததில் மகிழ்ச்சி\")"
   ]
  },
  {
   "cell_type": "code",
   "execution_count": 17,
   "id": "771e7093",
   "metadata": {},
   "outputs": [
    {
     "name": "stdout",
     "output_type": "stream",
     "text": [
      "Language is: ['Malayalam']\n"
     ]
    }
   ],
   "source": [
    "pred(\"ഇന്ന് നിങ്ങൾക്കെങ്ങനെയുണ്ട്\")"
   ]
  },
  {
   "cell_type": "code",
   "execution_count": null,
   "id": "6254933a",
   "metadata": {},
   "outputs": [],
   "source": []
  }
 ],
 "metadata": {
  "kernelspec": {
   "display_name": "Python 3 (ipykernel)",
   "language": "python",
   "name": "python3"
  },
  "language_info": {
   "codemirror_mode": {
    "name": "ipython",
    "version": 3
   },
   "file_extension": ".py",
   "mimetype": "text/x-python",
   "name": "python",
   "nbconvert_exporter": "python",
   "pygments_lexer": "ipython3",
   "version": "3.9.7"
  }
 },
 "nbformat": 4,
 "nbformat_minor": 5
}
